{
 "cells": [
  {
   "cell_type": "code",
   "execution_count": 1,
   "id": "6fd6ed79",
   "metadata": {
    "ExecuteTime": {
     "end_time": "2023-04-01T05:13:33.757253Z",
     "start_time": "2023-04-01T05:13:30.866323Z"
    }
   },
   "outputs": [],
   "source": [
    "import pandas as pd\n",
    "import numpy as np\n",
    "import seaborn as sns\n",
    "import matplotlib.pyplot as plt\n",
    "\n",
    "from sklearn.svm import SVC\n",
    "from sklearn.model_selection import train_test_split, cross_val_score, GridSearchCV\n",
    "from sklearn.metrics import classification_report, accuracy_score, confusion_matrix"
   ]
  },
  {
   "cell_type": "code",
   "execution_count": 2,
   "id": "6144e377",
   "metadata": {
    "ExecuteTime": {
     "end_time": "2023-04-01T05:13:33.836550Z",
     "start_time": "2023-04-01T05:13:33.761209Z"
    }
   },
   "outputs": [
    {
     "data": {
      "text/html": [
       "<div>\n",
       "<style scoped>\n",
       "    .dataframe tbody tr th:only-of-type {\n",
       "        vertical-align: middle;\n",
       "    }\n",
       "\n",
       "    .dataframe tbody tr th {\n",
       "        vertical-align: top;\n",
       "    }\n",
       "\n",
       "    .dataframe thead th {\n",
       "        text-align: right;\n",
       "    }\n",
       "</style>\n",
       "<table border=\"1\" class=\"dataframe\">\n",
       "  <thead>\n",
       "    <tr style=\"text-align: right;\">\n",
       "      <th></th>\n",
       "      <th>age</th>\n",
       "      <th>workclass</th>\n",
       "      <th>education</th>\n",
       "      <th>educationno</th>\n",
       "      <th>maritalstatus</th>\n",
       "      <th>occupation</th>\n",
       "      <th>relationship</th>\n",
       "      <th>race</th>\n",
       "      <th>sex</th>\n",
       "      <th>capitalgain</th>\n",
       "      <th>capitalloss</th>\n",
       "      <th>hoursperweek</th>\n",
       "      <th>native</th>\n",
       "      <th>Salary</th>\n",
       "    </tr>\n",
       "  </thead>\n",
       "  <tbody>\n",
       "    <tr>\n",
       "      <th>0</th>\n",
       "      <td>39</td>\n",
       "      <td>State-gov</td>\n",
       "      <td>Bachelors</td>\n",
       "      <td>13</td>\n",
       "      <td>Never-married</td>\n",
       "      <td>Adm-clerical</td>\n",
       "      <td>Not-in-family</td>\n",
       "      <td>White</td>\n",
       "      <td>Male</td>\n",
       "      <td>2174</td>\n",
       "      <td>0</td>\n",
       "      <td>40</td>\n",
       "      <td>United-States</td>\n",
       "      <td>&lt;=50K</td>\n",
       "    </tr>\n",
       "    <tr>\n",
       "      <th>1</th>\n",
       "      <td>50</td>\n",
       "      <td>Self-emp-not-inc</td>\n",
       "      <td>Bachelors</td>\n",
       "      <td>13</td>\n",
       "      <td>Married-civ-spouse</td>\n",
       "      <td>Exec-managerial</td>\n",
       "      <td>Husband</td>\n",
       "      <td>White</td>\n",
       "      <td>Male</td>\n",
       "      <td>0</td>\n",
       "      <td>0</td>\n",
       "      <td>13</td>\n",
       "      <td>United-States</td>\n",
       "      <td>&lt;=50K</td>\n",
       "    </tr>\n",
       "    <tr>\n",
       "      <th>2</th>\n",
       "      <td>38</td>\n",
       "      <td>Private</td>\n",
       "      <td>HS-grad</td>\n",
       "      <td>9</td>\n",
       "      <td>Divorced</td>\n",
       "      <td>Handlers-cleaners</td>\n",
       "      <td>Not-in-family</td>\n",
       "      <td>White</td>\n",
       "      <td>Male</td>\n",
       "      <td>0</td>\n",
       "      <td>0</td>\n",
       "      <td>40</td>\n",
       "      <td>United-States</td>\n",
       "      <td>&lt;=50K</td>\n",
       "    </tr>\n",
       "    <tr>\n",
       "      <th>3</th>\n",
       "      <td>53</td>\n",
       "      <td>Private</td>\n",
       "      <td>11th</td>\n",
       "      <td>7</td>\n",
       "      <td>Married-civ-spouse</td>\n",
       "      <td>Handlers-cleaners</td>\n",
       "      <td>Husband</td>\n",
       "      <td>Black</td>\n",
       "      <td>Male</td>\n",
       "      <td>0</td>\n",
       "      <td>0</td>\n",
       "      <td>40</td>\n",
       "      <td>United-States</td>\n",
       "      <td>&lt;=50K</td>\n",
       "    </tr>\n",
       "    <tr>\n",
       "      <th>4</th>\n",
       "      <td>28</td>\n",
       "      <td>Private</td>\n",
       "      <td>Bachelors</td>\n",
       "      <td>13</td>\n",
       "      <td>Married-civ-spouse</td>\n",
       "      <td>Prof-specialty</td>\n",
       "      <td>Wife</td>\n",
       "      <td>Black</td>\n",
       "      <td>Female</td>\n",
       "      <td>0</td>\n",
       "      <td>0</td>\n",
       "      <td>40</td>\n",
       "      <td>Cuba</td>\n",
       "      <td>&lt;=50K</td>\n",
       "    </tr>\n",
       "    <tr>\n",
       "      <th>...</th>\n",
       "      <td>...</td>\n",
       "      <td>...</td>\n",
       "      <td>...</td>\n",
       "      <td>...</td>\n",
       "      <td>...</td>\n",
       "      <td>...</td>\n",
       "      <td>...</td>\n",
       "      <td>...</td>\n",
       "      <td>...</td>\n",
       "      <td>...</td>\n",
       "      <td>...</td>\n",
       "      <td>...</td>\n",
       "      <td>...</td>\n",
       "      <td>...</td>\n",
       "    </tr>\n",
       "    <tr>\n",
       "      <th>30156</th>\n",
       "      <td>27</td>\n",
       "      <td>Private</td>\n",
       "      <td>Assoc-acdm</td>\n",
       "      <td>12</td>\n",
       "      <td>Married-civ-spouse</td>\n",
       "      <td>Tech-support</td>\n",
       "      <td>Wife</td>\n",
       "      <td>White</td>\n",
       "      <td>Female</td>\n",
       "      <td>0</td>\n",
       "      <td>0</td>\n",
       "      <td>38</td>\n",
       "      <td>United-States</td>\n",
       "      <td>&lt;=50K</td>\n",
       "    </tr>\n",
       "    <tr>\n",
       "      <th>30157</th>\n",
       "      <td>40</td>\n",
       "      <td>Private</td>\n",
       "      <td>HS-grad</td>\n",
       "      <td>9</td>\n",
       "      <td>Married-civ-spouse</td>\n",
       "      <td>Machine-op-inspct</td>\n",
       "      <td>Husband</td>\n",
       "      <td>White</td>\n",
       "      <td>Male</td>\n",
       "      <td>0</td>\n",
       "      <td>0</td>\n",
       "      <td>40</td>\n",
       "      <td>United-States</td>\n",
       "      <td>&gt;50K</td>\n",
       "    </tr>\n",
       "    <tr>\n",
       "      <th>30158</th>\n",
       "      <td>58</td>\n",
       "      <td>Private</td>\n",
       "      <td>HS-grad</td>\n",
       "      <td>9</td>\n",
       "      <td>Widowed</td>\n",
       "      <td>Adm-clerical</td>\n",
       "      <td>Unmarried</td>\n",
       "      <td>White</td>\n",
       "      <td>Female</td>\n",
       "      <td>0</td>\n",
       "      <td>0</td>\n",
       "      <td>40</td>\n",
       "      <td>United-States</td>\n",
       "      <td>&lt;=50K</td>\n",
       "    </tr>\n",
       "    <tr>\n",
       "      <th>30159</th>\n",
       "      <td>22</td>\n",
       "      <td>Private</td>\n",
       "      <td>HS-grad</td>\n",
       "      <td>9</td>\n",
       "      <td>Never-married</td>\n",
       "      <td>Adm-clerical</td>\n",
       "      <td>Own-child</td>\n",
       "      <td>White</td>\n",
       "      <td>Male</td>\n",
       "      <td>0</td>\n",
       "      <td>0</td>\n",
       "      <td>20</td>\n",
       "      <td>United-States</td>\n",
       "      <td>&lt;=50K</td>\n",
       "    </tr>\n",
       "    <tr>\n",
       "      <th>30160</th>\n",
       "      <td>52</td>\n",
       "      <td>Self-emp-inc</td>\n",
       "      <td>HS-grad</td>\n",
       "      <td>9</td>\n",
       "      <td>Married-civ-spouse</td>\n",
       "      <td>Exec-managerial</td>\n",
       "      <td>Wife</td>\n",
       "      <td>White</td>\n",
       "      <td>Female</td>\n",
       "      <td>15024</td>\n",
       "      <td>0</td>\n",
       "      <td>40</td>\n",
       "      <td>United-States</td>\n",
       "      <td>&gt;50K</td>\n",
       "    </tr>\n",
       "  </tbody>\n",
       "</table>\n",
       "<p>30161 rows × 14 columns</p>\n",
       "</div>"
      ],
      "text/plain": [
       "       age          workclass    education  educationno        maritalstatus  \\\n",
       "0       39          State-gov    Bachelors           13        Never-married   \n",
       "1       50   Self-emp-not-inc    Bachelors           13   Married-civ-spouse   \n",
       "2       38            Private      HS-grad            9             Divorced   \n",
       "3       53            Private         11th            7   Married-civ-spouse   \n",
       "4       28            Private    Bachelors           13   Married-civ-spouse   \n",
       "...    ...                ...          ...          ...                  ...   \n",
       "30156   27            Private   Assoc-acdm           12   Married-civ-spouse   \n",
       "30157   40            Private      HS-grad            9   Married-civ-spouse   \n",
       "30158   58            Private      HS-grad            9              Widowed   \n",
       "30159   22            Private      HS-grad            9        Never-married   \n",
       "30160   52       Self-emp-inc      HS-grad            9   Married-civ-spouse   \n",
       "\n",
       "               occupation    relationship    race      sex  capitalgain  \\\n",
       "0            Adm-clerical   Not-in-family   White     Male         2174   \n",
       "1         Exec-managerial         Husband   White     Male            0   \n",
       "2       Handlers-cleaners   Not-in-family   White     Male            0   \n",
       "3       Handlers-cleaners         Husband   Black     Male            0   \n",
       "4          Prof-specialty            Wife   Black   Female            0   \n",
       "...                   ...             ...     ...      ...          ...   \n",
       "30156        Tech-support            Wife   White   Female            0   \n",
       "30157   Machine-op-inspct         Husband   White     Male            0   \n",
       "30158        Adm-clerical       Unmarried   White   Female            0   \n",
       "30159        Adm-clerical       Own-child   White     Male            0   \n",
       "30160     Exec-managerial            Wife   White   Female        15024   \n",
       "\n",
       "       capitalloss  hoursperweek          native  Salary  \n",
       "0                0            40   United-States   <=50K  \n",
       "1                0            13   United-States   <=50K  \n",
       "2                0            40   United-States   <=50K  \n",
       "3                0            40   United-States   <=50K  \n",
       "4                0            40            Cuba   <=50K  \n",
       "...            ...           ...             ...     ...  \n",
       "30156            0            38   United-States   <=50K  \n",
       "30157            0            40   United-States    >50K  \n",
       "30158            0            40   United-States   <=50K  \n",
       "30159            0            20   United-States   <=50K  \n",
       "30160            0            40   United-States    >50K  \n",
       "\n",
       "[30161 rows x 14 columns]"
      ]
     },
     "execution_count": 2,
     "metadata": {},
     "output_type": "execute_result"
    }
   ],
   "source": [
    "s1_train = pd.read_csv('SalaryData_Train.csv')\n",
    "s1_train"
   ]
  },
  {
   "cell_type": "code",
   "execution_count": 3,
   "id": "c4f27829",
   "metadata": {
    "ExecuteTime": {
     "end_time": "2023-04-01T05:13:33.868043Z",
     "start_time": "2023-04-01T05:13:33.838463Z"
    }
   },
   "outputs": [],
   "source": [
    "salary_train = s1_train.drop_duplicates()\n",
    "salary_train\n",
    "import warnings\n",
    "warnings.filterwarnings('ignore')"
   ]
  },
  {
   "cell_type": "code",
   "execution_count": 4,
   "id": "d6b762a2",
   "metadata": {
    "ExecuteTime": {
     "end_time": "2023-04-01T05:13:33.915997Z",
     "start_time": "2023-04-01T05:13:33.870051Z"
    }
   },
   "outputs": [],
   "source": [
    "from sklearn import preprocessing\n",
    "label_encoder = preprocessing.LabelEncoder()\n",
    "salary_train['workclass']= label_encoder.fit_transform(salary_train['workclass']) \n",
    "salary_train['education']= label_encoder.fit_transform(salary_train['education'])\n",
    "salary_train['maritalstatus']= label_encoder.fit_transform(salary_train['maritalstatus'])\n",
    "salary_train['occupation']= label_encoder.fit_transform(salary_train['occupation'])\n",
    "salary_train['relationship']= label_encoder.fit_transform(salary_train['relationship'])\n",
    "salary_train['race']= label_encoder.fit_transform(salary_train['race'])\n",
    "salary_train['sex']= label_encoder.fit_transform(salary_train['sex'])\n",
    "salary_train['native']= label_encoder.fit_transform(salary_train['native'])\n",
    "salary_train['Salary']= label_encoder.fit_transform(salary_train['Salary'])"
   ]
  },
  {
   "cell_type": "code",
   "execution_count": 5,
   "id": "4e54bfc5",
   "metadata": {
    "ExecuteTime": {
     "end_time": "2023-04-01T05:13:33.931978Z",
     "start_time": "2023-04-01T05:13:33.917019Z"
    }
   },
   "outputs": [
    {
     "data": {
      "text/html": [
       "<div>\n",
       "<style scoped>\n",
       "    .dataframe tbody tr th:only-of-type {\n",
       "        vertical-align: middle;\n",
       "    }\n",
       "\n",
       "    .dataframe tbody tr th {\n",
       "        vertical-align: top;\n",
       "    }\n",
       "\n",
       "    .dataframe thead th {\n",
       "        text-align: right;\n",
       "    }\n",
       "</style>\n",
       "<table border=\"1\" class=\"dataframe\">\n",
       "  <thead>\n",
       "    <tr style=\"text-align: right;\">\n",
       "      <th></th>\n",
       "      <th>age</th>\n",
       "      <th>workclass</th>\n",
       "      <th>education</th>\n",
       "      <th>educationno</th>\n",
       "      <th>maritalstatus</th>\n",
       "      <th>occupation</th>\n",
       "      <th>relationship</th>\n",
       "      <th>race</th>\n",
       "      <th>sex</th>\n",
       "      <th>capitalgain</th>\n",
       "      <th>capitalloss</th>\n",
       "      <th>hoursperweek</th>\n",
       "      <th>native</th>\n",
       "      <th>Salary</th>\n",
       "    </tr>\n",
       "  </thead>\n",
       "  <tbody>\n",
       "    <tr>\n",
       "      <th>0</th>\n",
       "      <td>39</td>\n",
       "      <td>5</td>\n",
       "      <td>9</td>\n",
       "      <td>13</td>\n",
       "      <td>4</td>\n",
       "      <td>0</td>\n",
       "      <td>1</td>\n",
       "      <td>4</td>\n",
       "      <td>1</td>\n",
       "      <td>2174</td>\n",
       "      <td>0</td>\n",
       "      <td>40</td>\n",
       "      <td>37</td>\n",
       "      <td>0</td>\n",
       "    </tr>\n",
       "    <tr>\n",
       "      <th>1</th>\n",
       "      <td>50</td>\n",
       "      <td>4</td>\n",
       "      <td>9</td>\n",
       "      <td>13</td>\n",
       "      <td>2</td>\n",
       "      <td>3</td>\n",
       "      <td>0</td>\n",
       "      <td>4</td>\n",
       "      <td>1</td>\n",
       "      <td>0</td>\n",
       "      <td>0</td>\n",
       "      <td>13</td>\n",
       "      <td>37</td>\n",
       "      <td>0</td>\n",
       "    </tr>\n",
       "    <tr>\n",
       "      <th>2</th>\n",
       "      <td>38</td>\n",
       "      <td>2</td>\n",
       "      <td>11</td>\n",
       "      <td>9</td>\n",
       "      <td>0</td>\n",
       "      <td>5</td>\n",
       "      <td>1</td>\n",
       "      <td>4</td>\n",
       "      <td>1</td>\n",
       "      <td>0</td>\n",
       "      <td>0</td>\n",
       "      <td>40</td>\n",
       "      <td>37</td>\n",
       "      <td>0</td>\n",
       "    </tr>\n",
       "    <tr>\n",
       "      <th>3</th>\n",
       "      <td>53</td>\n",
       "      <td>2</td>\n",
       "      <td>1</td>\n",
       "      <td>7</td>\n",
       "      <td>2</td>\n",
       "      <td>5</td>\n",
       "      <td>0</td>\n",
       "      <td>2</td>\n",
       "      <td>1</td>\n",
       "      <td>0</td>\n",
       "      <td>0</td>\n",
       "      <td>40</td>\n",
       "      <td>37</td>\n",
       "      <td>0</td>\n",
       "    </tr>\n",
       "    <tr>\n",
       "      <th>4</th>\n",
       "      <td>28</td>\n",
       "      <td>2</td>\n",
       "      <td>9</td>\n",
       "      <td>13</td>\n",
       "      <td>2</td>\n",
       "      <td>9</td>\n",
       "      <td>5</td>\n",
       "      <td>2</td>\n",
       "      <td>0</td>\n",
       "      <td>0</td>\n",
       "      <td>0</td>\n",
       "      <td>40</td>\n",
       "      <td>4</td>\n",
       "      <td>0</td>\n",
       "    </tr>\n",
       "    <tr>\n",
       "      <th>...</th>\n",
       "      <td>...</td>\n",
       "      <td>...</td>\n",
       "      <td>...</td>\n",
       "      <td>...</td>\n",
       "      <td>...</td>\n",
       "      <td>...</td>\n",
       "      <td>...</td>\n",
       "      <td>...</td>\n",
       "      <td>...</td>\n",
       "      <td>...</td>\n",
       "      <td>...</td>\n",
       "      <td>...</td>\n",
       "      <td>...</td>\n",
       "      <td>...</td>\n",
       "    </tr>\n",
       "    <tr>\n",
       "      <th>30154</th>\n",
       "      <td>53</td>\n",
       "      <td>2</td>\n",
       "      <td>12</td>\n",
       "      <td>14</td>\n",
       "      <td>2</td>\n",
       "      <td>3</td>\n",
       "      <td>0</td>\n",
       "      <td>4</td>\n",
       "      <td>1</td>\n",
       "      <td>0</td>\n",
       "      <td>0</td>\n",
       "      <td>40</td>\n",
       "      <td>37</td>\n",
       "      <td>1</td>\n",
       "    </tr>\n",
       "    <tr>\n",
       "      <th>30155</th>\n",
       "      <td>22</td>\n",
       "      <td>2</td>\n",
       "      <td>15</td>\n",
       "      <td>10</td>\n",
       "      <td>4</td>\n",
       "      <td>10</td>\n",
       "      <td>1</td>\n",
       "      <td>4</td>\n",
       "      <td>1</td>\n",
       "      <td>0</td>\n",
       "      <td>0</td>\n",
       "      <td>40</td>\n",
       "      <td>37</td>\n",
       "      <td>0</td>\n",
       "    </tr>\n",
       "    <tr>\n",
       "      <th>30156</th>\n",
       "      <td>27</td>\n",
       "      <td>2</td>\n",
       "      <td>7</td>\n",
       "      <td>12</td>\n",
       "      <td>2</td>\n",
       "      <td>12</td>\n",
       "      <td>5</td>\n",
       "      <td>4</td>\n",
       "      <td>0</td>\n",
       "      <td>0</td>\n",
       "      <td>0</td>\n",
       "      <td>38</td>\n",
       "      <td>37</td>\n",
       "      <td>0</td>\n",
       "    </tr>\n",
       "    <tr>\n",
       "      <th>30158</th>\n",
       "      <td>58</td>\n",
       "      <td>2</td>\n",
       "      <td>11</td>\n",
       "      <td>9</td>\n",
       "      <td>6</td>\n",
       "      <td>0</td>\n",
       "      <td>4</td>\n",
       "      <td>4</td>\n",
       "      <td>0</td>\n",
       "      <td>0</td>\n",
       "      <td>0</td>\n",
       "      <td>40</td>\n",
       "      <td>37</td>\n",
       "      <td>0</td>\n",
       "    </tr>\n",
       "    <tr>\n",
       "      <th>30160</th>\n",
       "      <td>52</td>\n",
       "      <td>3</td>\n",
       "      <td>11</td>\n",
       "      <td>9</td>\n",
       "      <td>2</td>\n",
       "      <td>3</td>\n",
       "      <td>5</td>\n",
       "      <td>4</td>\n",
       "      <td>0</td>\n",
       "      <td>15024</td>\n",
       "      <td>0</td>\n",
       "      <td>40</td>\n",
       "      <td>37</td>\n",
       "      <td>1</td>\n",
       "    </tr>\n",
       "  </tbody>\n",
       "</table>\n",
       "<p>26903 rows × 14 columns</p>\n",
       "</div>"
      ],
      "text/plain": [
       "       age  workclass  education  educationno  maritalstatus  occupation  \\\n",
       "0       39          5          9           13              4           0   \n",
       "1       50          4          9           13              2           3   \n",
       "2       38          2         11            9              0           5   \n",
       "3       53          2          1            7              2           5   \n",
       "4       28          2          9           13              2           9   \n",
       "...    ...        ...        ...          ...            ...         ...   \n",
       "30154   53          2         12           14              2           3   \n",
       "30155   22          2         15           10              4          10   \n",
       "30156   27          2          7           12              2          12   \n",
       "30158   58          2         11            9              6           0   \n",
       "30160   52          3         11            9              2           3   \n",
       "\n",
       "       relationship  race  sex  capitalgain  capitalloss  hoursperweek  \\\n",
       "0                 1     4    1         2174            0            40   \n",
       "1                 0     4    1            0            0            13   \n",
       "2                 1     4    1            0            0            40   \n",
       "3                 0     2    1            0            0            40   \n",
       "4                 5     2    0            0            0            40   \n",
       "...             ...   ...  ...          ...          ...           ...   \n",
       "30154             0     4    1            0            0            40   \n",
       "30155             1     4    1            0            0            40   \n",
       "30156             5     4    0            0            0            38   \n",
       "30158             4     4    0            0            0            40   \n",
       "30160             5     4    0        15024            0            40   \n",
       "\n",
       "       native  Salary  \n",
       "0          37       0  \n",
       "1          37       0  \n",
       "2          37       0  \n",
       "3          37       0  \n",
       "4           4       0  \n",
       "...       ...     ...  \n",
       "30154      37       1  \n",
       "30155      37       0  \n",
       "30156      37       0  \n",
       "30158      37       0  \n",
       "30160      37       1  \n",
       "\n",
       "[26903 rows x 14 columns]"
      ]
     },
     "execution_count": 5,
     "metadata": {},
     "output_type": "execute_result"
    }
   ],
   "source": [
    "salary_train"
   ]
  },
  {
   "cell_type": "code",
   "execution_count": 6,
   "id": "dee8f77a",
   "metadata": {
    "ExecuteTime": {
     "end_time": "2023-04-01T05:13:33.963947Z",
     "start_time": "2023-04-01T05:13:33.933966Z"
    }
   },
   "outputs": [
    {
     "name": "stdout",
     "output_type": "stream",
     "text": [
      "<class 'pandas.core.frame.DataFrame'>\n",
      "Int64Index: 26903 entries, 0 to 30160\n",
      "Data columns (total 14 columns):\n",
      " #   Column         Non-Null Count  Dtype\n",
      "---  ------         --------------  -----\n",
      " 0   age            26903 non-null  int64\n",
      " 1   workclass      26903 non-null  int32\n",
      " 2   education      26903 non-null  int32\n",
      " 3   educationno    26903 non-null  int64\n",
      " 4   maritalstatus  26903 non-null  int32\n",
      " 5   occupation     26903 non-null  int32\n",
      " 6   relationship   26903 non-null  int32\n",
      " 7   race           26903 non-null  int32\n",
      " 8   sex            26903 non-null  int32\n",
      " 9   capitalgain    26903 non-null  int64\n",
      " 10  capitalloss    26903 non-null  int64\n",
      " 11  hoursperweek   26903 non-null  int64\n",
      " 12  native         26903 non-null  int32\n",
      " 13  Salary         26903 non-null  int32\n",
      "dtypes: int32(9), int64(5)\n",
      "memory usage: 2.2 MB\n"
     ]
    }
   ],
   "source": [
    "salary_train.info()"
   ]
  },
  {
   "cell_type": "code",
   "execution_count": 7,
   "id": "c54829f7",
   "metadata": {
    "ExecuteTime": {
     "end_time": "2023-04-01T05:13:33.979599Z",
     "start_time": "2023-04-01T05:13:33.965284Z"
    }
   },
   "outputs": [
    {
     "data": {
      "text/plain": [
       "(26903, 14)"
      ]
     },
     "execution_count": 7,
     "metadata": {},
     "output_type": "execute_result"
    }
   ],
   "source": [
    "\n",
    "salary_train.shape"
   ]
  },
  {
   "cell_type": "code",
   "execution_count": 8,
   "id": "1e151cf6",
   "metadata": {
    "ExecuteTime": {
     "end_time": "2023-04-01T05:13:33.995460Z",
     "start_time": "2023-04-01T05:13:33.981505Z"
    }
   },
   "outputs": [
    {
     "data": {
      "text/plain": [
       "age              0\n",
       "workclass        0\n",
       "education        0\n",
       "educationno      0\n",
       "maritalstatus    0\n",
       "occupation       0\n",
       "relationship     0\n",
       "race             0\n",
       "sex              0\n",
       "capitalgain      0\n",
       "capitalloss      0\n",
       "hoursperweek     0\n",
       "native           0\n",
       "Salary           0\n",
       "dtype: int64"
      ]
     },
     "execution_count": 8,
     "metadata": {},
     "output_type": "execute_result"
    }
   ],
   "source": [
    "salary_train.isna().sum()"
   ]
  },
  {
   "cell_type": "code",
   "execution_count": null,
   "id": "de1944db",
   "metadata": {
    "ExecuteTime": {
     "start_time": "2023-04-01T05:13:30.885Z"
    }
   },
   "outputs": [
    {
     "data": {
      "text/plain": [
       "<seaborn.axisgrid.PairGrid at 0x1392c26b7c0>"
      ]
     },
     "execution_count": 9,
     "metadata": {},
     "output_type": "execute_result"
    }
   ],
   "source": [
    "sns.pairplot(salary_train, hue='Salary')"
   ]
  },
  {
   "cell_type": "code",
   "execution_count": null,
   "id": "03501ddf",
   "metadata": {
    "ExecuteTime": {
     "start_time": "2023-04-01T05:13:30.888Z"
    }
   },
   "outputs": [],
   "source": [
    "plt.figure(figsize = (18, 8));\n",
    "sns.heatmap(salary_train.corr(), cmap='magma', annot=True, fmt=\".3f\")\n",
    "plt.show()"
   ]
  },
  {
   "cell_type": "code",
   "execution_count": null,
   "id": "ac3c228d",
   "metadata": {
    "ExecuteTime": {
     "start_time": "2023-04-01T05:13:30.892Z"
    }
   },
   "outputs": [],
   "source": [
    "s2_test = pd.read_csv('SalaryData_Test.csv')\n",
    "s2_test"
   ]
  },
  {
   "cell_type": "code",
   "execution_count": null,
   "id": "5140afea",
   "metadata": {
    "ExecuteTime": {
     "start_time": "2023-04-01T05:13:30.894Z"
    }
   },
   "outputs": [],
   "source": [
    "SalaryData_Test.csv"
   ]
  },
  {
   "cell_type": "code",
   "execution_count": null,
   "id": "3f2e48c2",
   "metadata": {
    "ExecuteTime": {
     "start_time": "2023-04-01T05:13:30.896Z"
    }
   },
   "outputs": [],
   "source": [
    "from sklearn import preprocessing\n",
    "label_encoder = preprocessing.LabelEncoder()\n",
    "salary_test['workclass']= label_encoder.fit_transform(salary_test['workclass']) \n",
    "salary_test['education']= label_encoder.fit_transform(salary_test['education'])\n",
    "salary_test['maritalstatus']= label_encoder.fit_transform(salary_test['maritalstatus'])\n",
    "salary_test['occupation']= label_encoder.fit_transform(salary_test['occupation'])\n",
    "salary_test['relationship']= label_encoder.fit_transform(salary_test['relationship'])\n",
    "salary_test['race']= label_encoder.fit_transform(salary_test['race'])\n",
    "salary_test['sex']= label_encoder.fit_transform(salary_test['sex'])\n",
    "salary_test['native']= label_encoder.fit_transform(salary_test['native'])\n",
    "salary_test['Salary']= label_encoder.fit_transform(salary_test['Salary'])"
   ]
  },
  {
   "cell_type": "code",
   "execution_count": null,
   "id": "789a73e8",
   "metadata": {
    "ExecuteTime": {
     "start_time": "2023-04-01T05:13:30.897Z"
    }
   },
   "outputs": [],
   "source": [
    "salary_test"
   ]
  },
  {
   "cell_type": "code",
   "execution_count": null,
   "id": "a3e6dd2d",
   "metadata": {
    "ExecuteTime": {
     "start_time": "2023-04-01T05:13:30.899Z"
    }
   },
   "outputs": [],
   "source": [
    "salary_test"
   ]
  },
  {
   "cell_type": "code",
   "execution_count": null,
   "id": "5ac34842",
   "metadata": {
    "ExecuteTime": {
     "start_time": "2023-04-01T05:13:30.901Z"
    }
   },
   "outputs": [],
   "source": [
    "salary_test.isna().sum()"
   ]
  },
  {
   "cell_type": "code",
   "execution_count": null,
   "id": "41b60ac4",
   "metadata": {
    "ExecuteTime": {
     "start_time": "2023-04-01T05:13:30.903Z"
    }
   },
   "outputs": [],
   "source": [
    "sns.pairplot(salary_test, hue='Salary')\n",
    "plt.figure(figsize = (21, 7));\n",
    "sns.heatmap(salary_test.corr(), cmap='magma', annot=True, fmt=\".3f\")\n",
    "plt.show()"
   ]
  },
  {
   "cell_type": "code",
   "execution_count": null,
   "id": "b8d43016",
   "metadata": {
    "ExecuteTime": {
     "start_time": "2023-04-01T05:13:30.905Z"
    }
   },
   "outputs": [],
   "source": [
    "x_train = salary_train.iloc[:,0:13]\n",
    "y_train = salary_train.iloc[:,-1] "
   ]
  },
  {
   "cell_type": "code",
   "execution_count": null,
   "id": "a4bc7ac8",
   "metadata": {
    "ExecuteTime": {
     "start_time": "2023-04-01T05:13:30.906Z"
    }
   },
   "outputs": [],
   "source": [
    "x_test = salary_test.iloc[:,0:13]\n",
    "y_test = salary_test.iloc[:,-1]"
   ]
  },
  {
   "cell_type": "code",
   "execution_count": null,
   "id": "eb51bee6",
   "metadata": {
    "ExecuteTime": {
     "start_time": "2023-04-01T05:13:30.909Z"
    }
   },
   "outputs": [],
   "source": [
    "x_train.shape, y_train.shape, x_test.shape, y_test.shape"
   ]
  },
  {
   "cell_type": "code",
   "execution_count": null,
   "id": "d5618046",
   "metadata": {
    "ExecuteTime": {
     "start_time": "2023-04-01T05:13:30.910Z"
    }
   },
   "outputs": [],
   "source": [
    "model_rbf = SVC(kernel = 'rbf')\n",
    "model_rbf.fit(x_train,y_train)\n",
    "pred_test_rbf = model_rbf.predict(x_test)\n",
    "print(\"Accuracy:\", accuracy_score(y_test, pred_test_rbf))(y_test, y_pred) "
   ]
  },
  {
   "cell_type": "code",
   "execution_count": null,
   "id": "a065a628",
   "metadata": {
    "ExecuteTime": {
     "start_time": "2023-04-01T05:13:30.911Z"
    }
   },
   "outputs": [],
   "source": [
    "confusion_matrix(y_test, pred_test_rbf)"
   ]
  },
  {
   "cell_type": "code",
   "execution_count": null,
   "id": "4bcdf47b",
   "metadata": {
    "ExecuteTime": {
     "start_time": "2023-04-01T05:13:30.914Z"
    }
   },
   "outputs": [],
   "source": [
    "model_linear = SVC(kernel = 'linear')\n",
    "model_linear.fit(x_train,y_train)\n",
    "pred_test_linear = model_linear.predict(x_test)\n",
    "print(\"Accuracy:\", accuracy_score(y_test, pred_test_linear))\n",
    "confusion_matrix(y_test, pred_test_linear)"
   ]
  },
  {
   "cell_type": "code",
   "execution_count": null,
   "id": "bdbaf1dc",
   "metadata": {
    "ExecuteTime": {
     "start_time": "2023-04-01T05:13:30.916Z"
    }
   },
   "outputs": [],
   "source": [
    "model_poly = SVC(kernel = 'poly')\n",
    "model_poly.fit(x_train,y_train)\n",
    "pred_test_poly = model_poly.predict(x_test)\n",
    "print(\"Accuracy:\", accuracy_score(y_test, pred_test_poly))\n",
    "confusion_matrix(y_test, pred_test_poly)"
   ]
  },
  {
   "cell_type": "code",
   "execution_count": null,
   "id": "ea586654",
   "metadata": {
    "ExecuteTime": {
     "start_time": "2023-04-01T05:13:30.919Z"
    }
   },
   "outputs": [],
   "source": [
    "model_sigmoid = SVC(kernel = 'sigmoid')\n",
    "model_sigmoid.fit(x_train,y_train)\n",
    "pred_test_sigmoid = model_sigmoid.predict(x_test)\n",
    "print(\"Accuracy:\", accuracy_score(y_test, pred_test_sigmoid))\n",
    "confusion_matrix(y_test, pred_test_sigmoid)"
   ]
  },
  {
   "cell_type": "code",
   "execution_count": null,
   "id": "677301d5",
   "metadata": {
    "ExecuteTime": {
     "start_time": "2023-04-01T05:13:30.921Z"
    }
   },
   "outputs": [],
   "source": [
    "class2 = SVC()\n",
    "param_grid2 = [{'kernel':['linear'], 'gamma': [40,5,0.5], 'C':[15,11,7,2,0.1,0.0001]}]\n",
    "gscv2 = GridSearchCV(class2,param_grid2,cv=10)\n",
    "gscv2.fit(x_train, y_train)\n",
    "gscv2.best_params_, gscv2.best_score_"
   ]
  },
  {
   "cell_type": "code",
   "execution_count": null,
   "id": "5ec96ccc",
   "metadata": {
    "ExecuteTime": {
     "start_time": "2023-04-01T05:13:30.925Z"
    }
   },
   "outputs": [],
   "source": [
    "c2 = SVC(C=11, gamma = 0.5)\n",
    "c2.fit(x_train, y_train)\n",
    "y_pred2 = c2.predict(x_test) \n",
    "acc2 = accuracy_score(y_test, y_pred2)*100\n",
    "print(\"Accuracy:\", acc2)"
   ]
  },
  {
   "cell_type": "code",
   "execution_count": null,
   "id": "b60421a1",
   "metadata": {
    "ExecuteTime": {
     "start_time": "2023-04-01T05:13:30.927Z"
    }
   },
   "outputs": [],
   "source": [
    "c2 = SVC(C=11, gamma = 0.5)\n",
    "c2.fit(x_train, y_train)\n",
    "y_pred2 = c2.predict(x_test) \n",
    "acc2 = accuracy_score(y_test, y_pred2)*100\n",
    "print(\"Accuracy:\", acc2)"
   ]
  },
  {
   "cell_type": "code",
   "execution_count": null,
   "id": "902485c4",
   "metadata": {
    "ExecuteTime": {
     "start_time": "2023-04-01T05:13:30.930Z"
    }
   },
   "outputs": [],
   "source": [
    "class3 = SVC()\n",
    "param_grid3 = [{'kernel':['poly'], 'gamma': [45,5,0.5,0.1], 'C':[15,10,5,3,0.1,0.0001]}]\n",
    "gscv3 = GridSearchCV(class3,param_grid3,cv=10)\n",
    "gscv3.fit(x_train, y_train)\n",
    "gscv3.best_params_, gscv3.best_score_"
   ]
  },
  {
   "cell_type": "code",
   "execution_count": null,
   "id": "5ba3cff4",
   "metadata": {
    "ExecuteTime": {
     "start_time": "2023-04-01T05:13:30.932Z"
    }
   },
   "outputs": [],
   "source": [
    "c3 = SVC(C=15, gamma = 0.1)\n",
    "c3.fit(x_train, y_train)\n",
    "y_pred3 = c3.predict(x_test) \n",
    "acc3 = accuracy_score(y_test, y_pred3)*100\n",
    "print(\"Accuracy:\", acc3)"
   ]
  },
  {
   "cell_type": "code",
   "execution_count": null,
   "id": "53aeb03d",
   "metadata": {
    "ExecuteTime": {
     "start_time": "2023-04-01T05:13:30.935Z"
    }
   },
   "outputs": [],
   "source": [
    "class4 = SVC()\n",
    "param_grid4 = [{'kernel':['sigmoid'], 'gamma': [50,5,0.5], 'C':[15,12,7,0.1,0.0001]}]\n",
    "gscv4 = GridSearchCV(class4,param_grid4,cv=10)\n",
    "gscv4.fit(x_train, y_train)\n",
    "gscv4.best_params_, gscv4.best_score_"
   ]
  },
  {
   "cell_type": "code",
   "execution_count": null,
   "id": "8378266c",
   "metadata": {
    "ExecuteTime": {
     "start_time": "2023-04-01T05:13:30.937Z"
    }
   },
   "outputs": [],
   "source": [
    "c4 = SVC(C=15, gamma = 0.5)\n",
    "c4.fit(x_train, y_train)\n",
    "y_pred4 = c4.predict(x_test) \n",
    "acc4 = accuracy_score(y_test, y_pred4)*100\n",
    "print(\"Accuracy:\", acc4)"
   ]
  },
  {
   "cell_type": "code",
   "execution_count": null,
   "id": "1e0068ec",
   "metadata": {},
   "outputs": [],
   "source": []
  }
 ],
 "metadata": {
  "kernelspec": {
   "display_name": "Python 3 (ipykernel)",
   "language": "python",
   "name": "python3"
  },
  "language_info": {
   "codemirror_mode": {
    "name": "ipython",
    "version": 3
   },
   "file_extension": ".py",
   "mimetype": "text/x-python",
   "name": "python",
   "nbconvert_exporter": "python",
   "pygments_lexer": "ipython3",
   "version": "3.9.13"
  }
 },
 "nbformat": 4,
 "nbformat_minor": 5
}
